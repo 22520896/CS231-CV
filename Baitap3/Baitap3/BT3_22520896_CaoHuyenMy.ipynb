{
 "cells": [
  {
   "cell_type": "code",
   "execution_count": null,
   "metadata": {},
   "outputs": [],
   "source": [
    "import os\n",
    "import numpy as np\n",
    "import cv2\n",
    "from skimage.feature import hog\n",
    "from sklearn.preprocessing import LabelEncoder\n",
    "from sklearn.linear_model import LogisticRegression\n",
    "from sklearn.neighbors import KNeighborsClassifier\n",
    "from sklearn.model_selection import GridSearchCV\n",
    "from sklearn.metrics import classification_report, accuracy_score\n"
   ]
  },
  {
   "cell_type": "code",
   "execution_count": 138,
   "metadata": {},
   "outputs": [],
   "source": [
    "train_folder = './Dataset/dogscats_small/train'\n",
    "test_folder = './Dataset/dogscats_small/test'"
   ]
  },
  {
   "cell_type": "markdown",
   "metadata": {},
   "source": [
    "# Hàm đọc dữ liệu"
   ]
  },
  {
   "cell_type": "code",
   "execution_count": 139,
   "metadata": {},
   "outputs": [],
   "source": [
    "def load_dataset(directory, resize = (32,32)):\n",
    "    images = []\n",
    "    labels = []\n",
    "    \n",
    "    for filename in os.listdir(directory):\n",
    "        filepath = os.path.join(directory, filename)\n",
    "        image = cv2.imread(filepath, cv2.IMREAD_GRAYSCALE)\n",
    "        label = filename.strip().split(\".\")[0]\n",
    "        img = cv2.resize(image, dsize = resize)\n",
    "        \n",
    "        images.append(img)\n",
    "        labels.append(label)\n",
    "\n",
    "    return np.array(images), np.array(labels)"
   ]
  },
  {
   "cell_type": "markdown",
   "metadata": {},
   "source": [
    "# Hàm rút trích đặc trưng HOG"
   ]
  },
  {
   "cell_type": "code",
   "execution_count": 140,
   "metadata": {},
   "outputs": [],
   "source": [
    "def hog_features(images):\n",
    "    features = []\n",
    "    for img in images:\n",
    "        hog_feature = hog(\n",
    "            img,\n",
    "            orientations = 9,\n",
    "            pixels_per_cell = (8,8),\n",
    "            cells_per_block = (2,2),\n",
    "            block_norm=\"L2-Hys\",\n",
    "            visualize=False,\n",
    "            feature_vector=True\n",
    "        )\n",
    "\n",
    "        features.append(hog_feature)\n",
    "    return np.array(features)"
   ]
  },
  {
   "cell_type": "markdown",
   "metadata": {},
   "source": [
    "# Logistic Regression"
   ]
  },
  {
   "cell_type": "code",
   "execution_count": 141,
   "metadata": {},
   "outputs": [],
   "source": [
    "def logistic_regression(train_features, test_features, train_labels, test_labels, label_encoder):\n",
    "    param_grid = {\n",
    "        'C': [0.01, 0.1, 1, 10], \n",
    "        'solver': ['liblinear', 'saga']\n",
    "    }\n",
    "    \n",
    "    logreg = LogisticRegression(max_iter=500)\n",
    "    \n",
    "    grid_search = GridSearchCV(logreg, param_grid, cv=5, n_jobs=-1, verbose=1)\n",
    "    \n",
    "    grid_search.fit(train_features, train_labels)\n",
    "    \n",
    "    logreg_predictions = grid_search.predict(test_features)\n",
    "    print(\"Logistic Regression - Accuracy: {:.2f}%\".format(accuracy_score(test_labels, logreg_predictions) * 100))\n",
    "    print(\"Logistic Regression - Classification Report:\")\n",
    "    print(classification_report(test_labels, logreg_predictions, target_names=label_encoder.classes_))\n",
    "    \n",
    "    return grid_search.best_params_"
   ]
  },
  {
   "cell_type": "markdown",
   "metadata": {},
   "source": [
    "# KNN"
   ]
  },
  {
   "cell_type": "code",
   "execution_count": 142,
   "metadata": {},
   "outputs": [],
   "source": [
    "def KNN(train_features, test_features, train_labels, test_labels, label_encoder):\n",
    "\n",
    "    param_grid = {\n",
    "        'n_neighbors': [1, 3, 5, 7], \n",
    "        'weights': ['uniform', 'distance'],  \n",
    "        'metric': ['euclidean']  \n",
    "    }\n",
    "    \n",
    "    knn = KNeighborsClassifier()\n",
    "    \n",
    "\n",
    "    grid_search = GridSearchCV(knn, param_grid, cv=5, n_jobs=-1, verbose=1)\n",
    "    \n",
    "\n",
    "    grid_search.fit(train_features, train_labels)\n",
    "    \n",
    "\n",
    "    knn_predictions = grid_search.predict(test_features)\n",
    "    \n",
    "    print(\"KNN - Accuracy: {:.2f}%\".format(accuracy_score(test_labels, knn_predictions) * 100))\n",
    "    print(\"KNN - Classification Report:\")\n",
    "    print(classification_report(test_labels, knn_predictions, target_names=label_encoder.classes_))\n",
    "    \n",
    "\n",
    "    return grid_search.best_params_"
   ]
  },
  {
   "cell_type": "markdown",
   "metadata": {},
   "source": [
    "# Run"
   ]
  },
  {
   "cell_type": "code",
   "execution_count": 143,
   "metadata": {},
   "outputs": [],
   "source": [
    "# Đọc dữ liệu\n",
    "train_imgs, train_labels = load_dataset(train_folder)\n",
    "test_imgs, test_labels = load_dataset(test_folder)"
   ]
  },
  {
   "cell_type": "code",
   "execution_count": 144,
   "metadata": {},
   "outputs": [],
   "source": [
    "# Rút trích đặc trưng HOG\n",
    "train_features = hog_features(train_imgs)\n",
    "test_features = hog_features(test_imgs)"
   ]
  },
  {
   "cell_type": "code",
   "execution_count": 145,
   "metadata": {},
   "outputs": [],
   "source": [
    "# # Chuyển nhãn từ category sang dạng số\n",
    "label_encoder = LabelEncoder()\n",
    "train_labels_encoded = label_encoder.fit_transform(train_labels)\n",
    "test_labels_encoded = label_encoder.transform(test_labels)"
   ]
  },
  {
   "cell_type": "code",
   "execution_count": 146,
   "metadata": {},
   "outputs": [
    {
     "name": "stdout",
     "output_type": "stream",
     "text": [
      "Fitting 5 folds for each of 8 candidates, totalling 40 fits\n",
      "Logistic Regression - Accuracy: 66.67%\n",
      "Logistic Regression - Classification Report:\n",
      "              precision    recall  f1-score   support\n",
      "\n",
      "         cat       0.69      0.69      0.69        16\n",
      "         dog       0.64      0.64      0.64        14\n",
      "\n",
      "    accuracy                           0.67        30\n",
      "   macro avg       0.67      0.67      0.67        30\n",
      "weighted avg       0.67      0.67      0.67        30\n",
      "\n"
     ]
    },
    {
     "data": {
      "text/plain": [
       "{'C': 1, 'solver': 'liblinear'}"
      ]
     },
     "execution_count": 146,
     "metadata": {},
     "output_type": "execute_result"
    }
   ],
   "source": [
    "# Logistic Regression\n",
    "logistic_regression(train_features, test_features, train_labels_encoded, test_labels_encoded, label_encoder)"
   ]
  },
  {
   "cell_type": "code",
   "execution_count": 147,
   "metadata": {},
   "outputs": [
    {
     "name": "stdout",
     "output_type": "stream",
     "text": [
      "Fitting 5 folds for each of 8 candidates, totalling 40 fits\n",
      "KNN - Accuracy: 60.00%\n",
      "KNN - Classification Report:\n",
      "              precision    recall  f1-score   support\n",
      "\n",
      "         cat       0.67      0.50      0.57        16\n",
      "         dog       0.56      0.71      0.63        14\n",
      "\n",
      "    accuracy                           0.60        30\n",
      "   macro avg       0.61      0.61      0.60        30\n",
      "weighted avg       0.61      0.60      0.60        30\n",
      "\n"
     ]
    },
    {
     "data": {
      "text/plain": [
       "{'metric': 'euclidean', 'n_neighbors': 5, 'weights': 'uniform'}"
      ]
     },
     "execution_count": 147,
     "metadata": {},
     "output_type": "execute_result"
    }
   ],
   "source": [
    "#KNN\n",
    "KNN(train_features, test_features, train_labels, test_labels, label_encoder)"
   ]
  }
 ],
 "metadata": {
  "kernelspec": {
   "display_name": "Python 3",
   "language": "python",
   "name": "python3"
  },
  "language_info": {
   "codemirror_mode": {
    "name": "ipython",
    "version": 3
   },
   "file_extension": ".py",
   "mimetype": "text/x-python",
   "name": "python",
   "nbconvert_exporter": "python",
   "pygments_lexer": "ipython3",
   "version": "3.11.4"
  }
 },
 "nbformat": 4,
 "nbformat_minor": 2
}
